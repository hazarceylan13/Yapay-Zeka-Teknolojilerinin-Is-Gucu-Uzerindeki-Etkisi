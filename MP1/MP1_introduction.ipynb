{
 "cells": [
  {
   "cell_type": "markdown",
   "id": "37634dbf-25be-4a62-add5-133502150127",
   "metadata": {},
   "source": [
    "1. Konunun Kısa Tanımı\n",
    "Bu araştırma, yapay zeka teknolojilerinin iş gücü üzerindeki etkilerini incelemektedir.\n",
    "Yapay zeka; otomasyon, makine öğrenmesi ve robotik sistemler gibi teknolojileri kapsar ve iş süreçlerinde verimliliği artırırken iş gücü yapısını değiştirmektedir."
   ]
  },
  {
   "cell_type": "markdown",
   "id": "977c08b8-38e9-4694-b75e-ef0a76d2d70e",
   "metadata": {},
   "source": [
    "2. Konunun Seçilme Nedeni\n",
    "Yapay zeka teknolojilerinin son yıllarda hızla gelişmesiyle birlikte, bu teknolojilerin istihdam yapısını nasıl değiştirdiği büyük bir tartışma konusu olmuştur. Bu nedenle, gelecekte hangi becerilerin ön plana çıkacağı ve hangi iş alanlarının risk altında olduğu sorusu, bu araştırmayı önemli hale getirmektedir."
   ]
  },
  {
   "cell_type": "markdown",
   "id": "f3148a7e-1a84-4540-acc4-98d89ce4f808",
   "metadata": {},
   "source": [
    "3. Araştırma Problemi\n",
    "Yapay zeka teknolojilerinin yaygınlaşmasıyla birlikte iş gücü piyasasında nasıl bir dönüşüm yaşanmaktadır ve bu teknolojilerin işsizlik oranı, çalışan verimliliği ve yeni mesleklerin ortaya çıkışı üzerindeki etkileri nelerdir?"
   ]
  },
  {
   "cell_type": "markdown",
   "id": "0c686f66-f29e-42fe-80a2-d3276f9f5c7c",
   "metadata": {},
   "source": [
    "4. Araştırmanın Amacı\n",
    "Bu araştırmanın temel amacı, yapay zeka teknolojilerinin iş gücü üzerindeki olumlu ve olumsuz etkilerini analiz etmektir.\n",
    "Çalışma, yapay zekanın hangi sektörlerde iş kaybına yol açtığını, hangi alanlarda ise yeni iş fırsatları oluşturduğunu incelemeyi hedeflemektedir.\n",
    "Ayrıca çalışanların bu teknolojik dönüşüme nasıl uyum sağladıkları da değerlendirilecektir."
   ]
  },
  {
   "cell_type": "markdown",
   "id": "aeeec313-c980-42ce-a38a-f6cb65755ebf",
   "metadata": {},
   "source": [
    "5. Araştırma Sorusu\n",
    "Yapay zeka teknolojilerinin gelişimi, iş gücü piyasasında istihdam oranlarını ve iş yapış biçimlerini nasıl etkilemektedir?"
   ]
  },
  {
   "cell_type": "markdown",
   "id": "8f012073-61c3-4621-9f2d-54883306900e",
   "metadata": {},
   "source": [
    "6. Değişkenler\n",
    "\n",
    "Bağımlı Değişkenler; Sektördeki çalışan sayısı, çalışan verimliliği.\n",
    "\n",
    "Bağımsız Değişkenler; Sektörün otomasyon oranı, teknolojiye yapılan yatırım miktarı."
   ]
  },
  {
   "cell_type": "markdown",
   "id": "c22e5f72-c05e-45e8-8aa0-f417714ca08e",
   "metadata": {},
   "source": [
    "7. Hipotezler\n",
    "H1: Yapay zeka araçlarını etkin bir şekilde kullanabilen meslek gruplarında, zaman içinde verimlilik ve ücret artışı gözlemlenirken, bu teknolojilere adapte olamayan mesleklerde istihdam oranı düşme eğilimi gösterir.\n",
    "H0 (boş hipotez): Yapay zeka teknolojilerinin iş gücü üzerinde anlamlı bir etkisi bulunmamaktadır."
   ]
  },
  {
   "cell_type": "markdown",
   "id": "5d26da9a-f39e-4b47-afbe-f9bd40a50787",
   "metadata": {},
   "source": [
    "8. Beklenen Sonuçlar\n",
    "Yapay zekâ teknolojilerinin bazı sektörlerde iş süreçlerini değiştirmesi ve belirli işlerde otomasyona yol açması beklenmektedir. Aynı zamanda, teknolojiye uyum sağlayan alanlarda verimlilik artışı ve yeni iş fırsatlarının ortaya çıkması olasıdır."
   ]
  }
 ],
 "metadata": {
  "kernelspec": {
   "display_name": "Python 3 (ipykernel)",
   "language": "python",
   "name": "python3"
  },
  "language_info": {
   "codemirror_mode": {
    "name": "ipython",
    "version": 3
   },
   "file_extension": ".py",
   "mimetype": "text/x-python",
   "name": "python",
   "nbconvert_exporter": "python",
   "pygments_lexer": "ipython3",
   "version": "3.13.5"
  }
 },
 "nbformat": 4,
 "nbformat_minor": 5
}
